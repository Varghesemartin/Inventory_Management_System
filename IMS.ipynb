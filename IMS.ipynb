{
 "cells": [
  {
   "cell_type": "markdown",
   "id": "0579b925",
   "metadata": {},
   "source": [
    "## Inventory Management System"
   ]
  },
  {
   "cell_type": "code",
   "execution_count": 3,
   "id": "4a0c2090",
   "metadata": {},
   "outputs": [],
   "source": [
    "dic={\"1\": {\"name\": \"earphone\", \"price\": 200.0, \"quantity\": 15, \"category\": \"electronics\", \"discount\": 0}, \"2\": {\"name\": \"SsD\", \"price\": 2000.0, \"quantity\": 10, \"category\": \"electronics\", \"discount\": 200}, \"3\": {\"name\": \"pen\", \"price\": 40.0, \"quantity\": 12, \"category\": \"stationery\", \"discount\": 2}, \"4\": {\"name\": \"TEA\", \"price\": 30.0, \"quantity\": 20, \"category\": \"Drinks\", \"discount\": 3}, \"5\": {\"name\": \"nuts\", \"price\": 120.0, \"quantity\": 25, \"category\": \"eatables\", \"discount\": 4}, \"6\": {\"name\": \"Cello Tape\", \"price\": 130.0, \"quantity\": 15, \"category\": \"Stationery\", \"discount\": 20}, \"7\": {\"name\": \"Oreo\", \"price\": 70.0, \"quantity\": 8, \"category\": \"eatables\", \"discount\": 10}, \"8\": {\"name\": \"parleG\", \"price\": 40.0, \"quantity\": 12, \"category\": \"Biscuits\", \"discount\": 5}, \"9\": {\"name\": \"lays\", \"price\": 35.0, \"quantity\": 25, \"category\": \"Chips\", \"discount\": 4}, \"10\": {\"name\": \"5 star\", \"price\": 20.0, \"quantity\": 15, \"category\": \"eatables\", \"discount\": 2}, \"11\": {\"name\": \"hersheys\", \"price\": 149.0, \"quantity\": 25, \"category\": \"eatables\", \"discount\": 45}, \"12\": {\"name\": \" Vegetable oil\", \"price\": 79.0, \"quantity\": 25, \"category\": \"eatables\", \"discount\": 0}, \"13\": {\"name\": \"Dairy Milk\", \"price\": 200.0, \"quantity\": 25, \"category\": \"Drinks\", \"discount\": 15}, \"14\": {\"name\": \"hair oil\", \"price\": 229.0, \"quantity\": 25, \"category\": \"cosmetic\", \"discount\": 12}, \"15\": {\"name\": \"Perfume\", \"price\": 220.0, \"quantity\": 25, \"category\": \"cosmetic\", \"discount\": 20}, \"16\": {\"name\": \"refine oil\", \"price\": 39.0, \"quantity\": 25, \"category\": \"eatables\", \"discount\": 10}, \"17\": {\"name\": \"Momos\", \"price\": 40.0, \"quantity\": 14, \"category\": \"eatables\", \"discount\": 5}, \"18\": {\"name\": \"candy\", \"price\": 50.0, \"quantity\": 25, \"category\": \"eatables\", \"discount\": 56}, \"19\": {\"name\": \" Chilli sauce\", \"price\": 100.0, \"quantity\": 25, \"category\": \"eatables\", \"discount\": 30}, \"20\": {\"name\": \"soyabean\", \"price\": 150.0, \"quantity\": 25, \"category\": \"eatables\", \"discount\": 21}, \"21\": {\"name\": \"Mango\", \"price\": 200.0, \"quantity\": 25, \"category\": \"fruits\", \"discount\": 20}, \"22\": {\"name\": \"A-4 Sheet Paper\", \"price\": 40.0, \"quantity\": 25, \"category\": \"Stationery\", \"discount\": 14}, \"23\": {\"name\": \"Chocolate cake\", \"price\": 330.0, \"quantity\": 5, \"category\": \"cake\", \"discount\": 20\n",
    "}, \"24\": {\"name\": \"almond\", \"price\": 75.0, \"quantity\": 25, \"category\": \"decor\", \"discount\": 5 }, \"25\": {\"name\": \"glass\", \"price\": 45.0, \"quantity\": 25, \"category\": \"decor\", \"discount\": 6}, \"26\": {\"name\": \"Wine\", \"price\": 130.0, \"quantity\": 30, \"category\": \"Drinks\", \"discount\": 20}, \"27\": {\"name\": \"hairpin\", \"price\": 155.0, \"quantity\": 25, \"category\": \"cosmetic\", \"discount\": 43}, \"28\": {\"name\": \"facewash\", \"price\": 245.0, \"quantity\": 25, \"category\": \"cosmetic\", \"discount\": 57}, \"29\": {\"name\": \"toys\", \"price\": 225.0, \"quantity\": 25, \"category\": \"decor\", \"discount\": 90}, \"30\": {\"name\": \"book\", \"price\": 285.0, \"quantity\": 50, \"category\": \"education\", \"discount\": 1}}\n",
    "\n"
   ]
  },
  {
   "cell_type": "code",
   "execution_count": 4,
   "id": "ddb38733",
   "metadata": {},
   "outputs": [],
   "source": [
    "dic['24'][\"price\"]=80"
   ]
  },
  {
   "cell_type": "code",
   "execution_count": 5,
   "id": "63c7c8f9",
   "metadata": {},
   "outputs": [
    {
     "name": "stdout",
     "output_type": "stream",
     "text": [
      "80\n"
     ]
    }
   ],
   "source": [
    "print(dic['24'][\"price\"])"
   ]
  },
  {
   "cell_type": "code",
   "execution_count": 6,
   "id": "a4f529fb",
   "metadata": {},
   "outputs": [],
   "source": [
    "import json\n"
   ]
  },
  {
   "cell_type": "code",
   "execution_count": 7,
   "id": "4c014683",
   "metadata": {},
   "outputs": [],
   "source": [
    "f=open(\"dict_init.txt\",'r')\n",
    "x=f.read()\n",
    "f.close()"
   ]
  },
  {
   "cell_type": "code",
   "execution_count": 8,
   "id": "ec642ea9",
   "metadata": {
    "scrolled": false
   },
   "outputs": [
    {
     "data": {
      "text/plain": [
       "{'1': {'name': 'earphone',\n",
       "  'price': 200.0,\n",
       "  'quantity': 15,\n",
       "  'category': 'electronics',\n",
       "  'discount': 0},\n",
       " '2': {'name': 'SsD',\n",
       "  'price': 2000.0,\n",
       "  'quantity': 10,\n",
       "  'category': 'electronics',\n",
       "  'discount': 200},\n",
       " '3': {'name': 'pen',\n",
       "  'price': 40.0,\n",
       "  'quantity': 12,\n",
       "  'category': 'stationery',\n",
       "  'discount': 2},\n",
       " '4': {'name': 'TEA',\n",
       "  'price': 30.0,\n",
       "  'quantity': 20,\n",
       "  'category': 'Drinks',\n",
       "  'discount': 3},\n",
       " '5': {'name': 'nuts',\n",
       "  'price': 120.0,\n",
       "  'quantity': 25,\n",
       "  'category': 'eatables',\n",
       "  'discount': 4},\n",
       " '6': {'name': 'Cello Tape',\n",
       "  'price': 130.0,\n",
       "  'quantity': 15,\n",
       "  'category': 'Stationery',\n",
       "  'discount': 20},\n",
       " '7': {'name': 'Oreo',\n",
       "  'price': 70.0,\n",
       "  'quantity': 8,\n",
       "  'category': 'eatables',\n",
       "  'discount': 10},\n",
       " '8': {'name': 'parleG',\n",
       "  'price': 40.0,\n",
       "  'quantity': 12,\n",
       "  'category': 'Biscuits',\n",
       "  'discount': 5},\n",
       " '9': {'name': 'lays',\n",
       "  'price': 35.0,\n",
       "  'quantity': 25,\n",
       "  'category': 'Chips',\n",
       "  'discount': 4},\n",
       " '10': {'name': '5 star',\n",
       "  'price': 20.0,\n",
       "  'quantity': 15,\n",
       "  'category': 'eatables',\n",
       "  'discount': 2},\n",
       " '11': {'name': 'hersheys',\n",
       "  'price': 149.0,\n",
       "  'quantity': 25,\n",
       "  'category': 'eatables',\n",
       "  'discount': 45},\n",
       " '12': {'name': ' Vegetable oil',\n",
       "  'price': 79.0,\n",
       "  'quantity': 25,\n",
       "  'category': 'eatables',\n",
       "  'discount': 0},\n",
       " '13': {'name': 'Dairy Milk',\n",
       "  'price': 200.0,\n",
       "  'quantity': 25,\n",
       "  'category': 'Drinks',\n",
       "  'discount': 15},\n",
       " '14': {'name': 'hair oil',\n",
       "  'price': 229.0,\n",
       "  'quantity': 25,\n",
       "  'category': 'cosmetic',\n",
       "  'discount': 12},\n",
       " '15': {'name': 'Perfume',\n",
       "  'price': 220.0,\n",
       "  'quantity': 25,\n",
       "  'category': 'cosmetic',\n",
       "  'discount': 20},\n",
       " '16': {'name': 'refine oil',\n",
       "  'price': 39.0,\n",
       "  'quantity': 25,\n",
       "  'category': 'eatables',\n",
       "  'discount': 10},\n",
       " '17': {'name': 'Momos',\n",
       "  'price': 40.0,\n",
       "  'quantity': 14,\n",
       "  'category': 'eatables',\n",
       "  'discount': 5},\n",
       " '18': {'name': 'candy',\n",
       "  'price': 50.0,\n",
       "  'quantity': 25,\n",
       "  'category': 'eatables',\n",
       "  'discount': 56},\n",
       " '19': {'name': ' Chilli sauce',\n",
       "  'price': 100.0,\n",
       "  'quantity': 25,\n",
       "  'category': 'eatables',\n",
       "  'discount': 30},\n",
       " '20': {'name': 'soyabean',\n",
       "  'price': 150.0,\n",
       "  'quantity': 25,\n",
       "  'category': 'eatables',\n",
       "  'discount': 21},\n",
       " '21': {'name': 'Mango',\n",
       "  'price': 200.0,\n",
       "  'quantity': 25,\n",
       "  'category': 'fruits',\n",
       "  'discount': 20},\n",
       " '22': {'name': 'A-4 Sheet Paper',\n",
       "  'price': 40.0,\n",
       "  'quantity': 25,\n",
       "  'category': 'Stationery',\n",
       "  'discount': 14},\n",
       " '23': {'name': 'Chocolate cake',\n",
       "  'price': 330.0,\n",
       "  'quantity': 5,\n",
       "  'category': 'cake',\n",
       "  'discount': 20},\n",
       " '24': {'name': 'almond',\n",
       "  'price': 75.0,\n",
       "  'quantity': 25,\n",
       "  'category': 'decor',\n",
       "  'discount': 5},\n",
       " '25': {'name': 'glass',\n",
       "  'price': 45.0,\n",
       "  'quantity': 25,\n",
       "  'category': 'decor',\n",
       "  'discount': 6},\n",
       " '26': {'name': 'Wine',\n",
       "  'price': 130.0,\n",
       "  'quantity': 30,\n",
       "  'category': 'Drinks',\n",
       "  'discount': 20},\n",
       " '27': {'name': 'hairpin',\n",
       "  'price': 155.0,\n",
       "  'quantity': 25,\n",
       "  'category': 'cosmetic',\n",
       "  'discount': 43},\n",
       " '28': {'name': 'facewash',\n",
       "  'price': 245.0,\n",
       "  'quantity': 25,\n",
       "  'category': 'cosmetic',\n",
       "  'discount': 57},\n",
       " '29': {'name': 'toys',\n",
       "  'price': 225.0,\n",
       "  'quantity': 25,\n",
       "  'category': 'decor',\n",
       "  'discount': 90},\n",
       " '30': {'name': 'book',\n",
       "  'price': 285.0,\n",
       "  'quantity': 50,\n",
       "  'category': 'education',\n",
       "  'discount': 1}}"
      ]
     },
     "execution_count": 8,
     "metadata": {},
     "output_type": "execute_result"
    }
   ],
   "source": [
    "dic=json.loads(x)\n",
    "dic"
   ]
  },
  {
   "cell_type": "code",
   "execution_count": 9,
   "id": "070da8cc",
   "metadata": {},
   "outputs": [
    {
     "name": "stdout",
     "output_type": "stream",
     "text": [
      "\n",
      "\n",
      "*************************\n",
      "Welcome to SSL Electronics\n",
      "\n",
      "*************************\n",
      "1.View items\n",
      "2.Buy items\n",
      "3.Exit\n",
      "\n"
     ]
    }
   ],
   "source": [
    "print('''\n",
    "\n",
    "*************************\n",
    "Welcome to SSL Electronics\n",
    "\n",
    "*************************\n",
    "1.View items\n",
    "2.Buy items\n",
    "3.Exit\n",
    "''')"
   ]
  },
  {
   "cell_type": "markdown",
   "id": "e59a1b98",
   "metadata": {},
   "source": [
    "### c==1 for Viewing items available in market\n",
    "### c==2 for buying items and quanity \n",
    "### c==3  Exit"
   ]
  },
  {
   "cell_type": "code",
   "execution_count": 10,
   "id": "a14473d9",
   "metadata": {},
   "outputs": [
    {
     "name": "stdout",
     "output_type": "stream",
     "text": [
      "Enter your option :1\n",
      "****************************\n",
      "items available in HVG market\n",
      "****************************\n",
      "Please enter the items and quantity key which you would like to purchase:\n",
      "1 4\n",
      "6 2\n",
      "19 8\n",
      "25 12\n",
      "30 1\n"
     ]
    }
   ],
   "source": [
    "c = int(input(\"Enter your option :\"))\n",
    "if c == 1:\n",
    "    print('****************************')\n",
    "    print(\"items available in SSS market\")\n",
    "\n",
    "    print('****************************')\n",
    "  \n",
    "    print('Please enter the items and quantity key which you would like to purchase:')\n",
    "    pur={}\n",
    "    for i in range (0,5):\n",
    "        n=input()\n",
    "        m=n.split(' ')\n",
    "        pur[m[0]] = int(m[1])\n",
    "\n",
    "\n",
    "\n",
    "if c==2:\n",
    "    print(\"Buy the items of your choice\")\n",
    "\n",
    "    amount=0\n",
    "    for i in pur:    \n",
    "        if(i in dic.keys()):\n",
    "            print('you ordered {} {}'.format(pur[i],dic[i]['name']))\n",
    "            print('Cost {} '.format(pur[i]*dic[i]['price']))\n",
    "            amount+=pur[i]*dic[i]['price']\n",
    "    print('Total bill : ',amount)\n",
    "\n",
    "    FullSet={}\n",
    "    s=1\n",
    "    for i in pur:\n",
    "        if(i in dic.keys()):\n",
    "            sn={}\n",
    "            sn['item'] = dic[i]['name']\n",
    "            sn['quantity'] = pur[i]\n",
    "            sn['price'] = dic[i]['price']\n",
    "            sn['SP'] = dic[i]['price']*(1.0 - dic[i]['discount']/100.0)\n",
    "            sn['total'] = sne['SP']*pur[i]\n",
    "            FullSet[s] = sn\n",
    "            s+=1\n",
    "    print(FullSet)\n",
    "if c== 3 :\n",
    "    print(\"Exit\")"
   ]
  },
  {
   "cell_type": "code",
   "execution_count": 11,
   "id": "413213b4",
   "metadata": {},
   "outputs": [
    {
     "name": "stdout",
     "output_type": "stream",
     "text": [
      "You have ordered 4 earphone\n",
      "Cost 800.0 \n",
      "You have ordered 2 Cello Tape\n",
      "Cost 260.0 \n",
      "You have ordered 8  Chilli sauce\n",
      "Cost 800.0 \n",
      "You have ordered 12 glass\n",
      "Cost 540.0 \n",
      "You have ordered 1 book\n",
      "Cost 285.0 \n",
      "Total bill :  2685.0\n"
     ]
    }
   ],
   "source": [
    "amount=0\n",
    "for i in pur:    \n",
    "    if(i in dic.keys()):\n",
    "        print('You have ordered {} {}'.format(pur[i],dic[i]['name']))\n",
    "        print('Cost {} '.format(pur[i]*dic[i]['price']))\n",
    "        amount+=pur[i]*dic[i]['price']\n",
    "print('Total bill : ',amount)"
   ]
  },
  {
   "cell_type": "code",
   "execution_count": 16,
   "id": "fbb89338",
   "metadata": {},
   "outputs": [
    {
     "name": "stdout",
     "output_type": "stream",
     "text": [
      "Enter your option :2\n",
      "Buy the items of your choice\n",
      "You ordered 4 earphone\n",
      "Cost: 800.0 \n",
      "You ordered 2 Cello Tape\n",
      "Cost: 260.0 \n",
      "You ordered 8  Chilli sauce\n",
      "Cost: 800.0 \n",
      "You ordered 12 glass\n",
      "Cost: 540.0 \n",
      "You ordered 1 book\n",
      "Cost: 285.0 \n",
      "Total bill :  2685.0\n",
      "{1: {'item': 'earphone', 'quantity': 4, 'price': 200.0, 'SP': 200.0, 'total': 800.0}, 2: {'item': 'Cello Tape', 'quantity': 2, 'price': 130.0, 'SP': 104.0, 'total': 208.0}, 3: {'item': ' Chilli sauce', 'quantity': 8, 'price': 100.0, 'SP': 70.0, 'total': 560.0}, 4: {'item': 'glass', 'quantity': 12, 'price': 45.0, 'SP': 42.3, 'total': 507.59999999999997}, 5: {'item': 'book', 'quantity': 1, 'price': 285.0, 'SP': 282.15, 'total': 282.15}}\n"
     ]
    }
   ],
   "source": [
    "c = int(input(\"Enter your option :\"))\n",
    "if c == 1:\n",
    "    print('****************************')\n",
    "    print(\"items available in SSS market\")\n",
    "\n",
    "    print('****************************')\n",
    "  \n",
    "    print('Please enter the items and quantity key which you would like to purchase:')\n",
    "    pur={}\n",
    "    for i in range (0,5):\n",
    "        n=input()\n",
    "        m=n.split(' ')\n",
    "        pur[m[0]] = int(m[1])\n",
    "\n",
    "\n",
    "\n",
    "if c==2:\n",
    "    print(\"Buy the items of your choice\")\n",
    "     \n",
    "      \n",
    "    amount=0\n",
    "    for i in pur:    \n",
    "        if(i in dic.keys()):\n",
    "            print('You ordered {} {}'.format(pur[i],dic[i]['name']))\n",
    "            print('Cost: {} '.format(pur[i]*dic[i]['price']))\n",
    "            amount+=pur[i]*dic[i]['price']\n",
    "    print('Total bill : ',amount)\n",
    "\n",
    "    FullSet={}\n",
    "    s=1\n",
    "    for i in pur:\n",
    "        if(i in dic.keys()):\n",
    "            sn={}\n",
    "            sn['item'] = dic[i]['name']\n",
    "            sn['quantity'] = pur[i]\n",
    "            sn['price'] = dic[i]['price']\n",
    "            sn['SP'] = dic[i]['price']*(1.0 - dic[i]['discount']/100.0)\n",
    "            sn['total'] = sn['SP']*pur[i]\n",
    "            FullSet[s] = sn\n",
    "            s+=1\n",
    "    print(FullSet)\n",
    "if c== 3 :\n",
    "    print(\"Exit\")"
   ]
  },
  {
   "cell_type": "code",
   "execution_count": 17,
   "id": "d89657be",
   "metadata": {},
   "outputs": [],
   "source": [
    "js=json.dumps(FullSet)\n",
    "f=open(\"Sales.json\",'w')\n",
    "f.write(js)\n",
    "f.close()"
   ]
  },
  {
   "cell_type": "code",
   "execution_count": 18,
   "id": "4b252226",
   "metadata": {},
   "outputs": [],
   "source": [
    "f=open(\"Sales.json\",'r')\n",
    "x=f.read()\n",
    "f.close()"
   ]
  },
  {
   "cell_type": "code",
   "execution_count": 19,
   "id": "197cd365",
   "metadata": {},
   "outputs": [],
   "source": [
    "js=json.dumps(FullSet)\n",
    "f=open(\"Sale.txt\",'w')\n",
    "x=f.write(js)\n",
    "f.close()"
   ]
  },
  {
   "cell_type": "code",
   "execution_count": 20,
   "id": "c64e8904",
   "metadata": {},
   "outputs": [],
   "source": [
    "f=open(\"Sale.txt\",'r')\n",
    "x=f.read()\n",
    "f.close()"
   ]
  },
  {
   "cell_type": "code",
   "execution_count": 22,
   "id": "d22a0787",
   "metadata": {},
   "outputs": [
    {
     "data": {
      "text/plain": [
       "'{\"1\": {\"item\": \"earphone\", \"quantity\": 4, \"price\": 200.0, \"SP\": 200.0, \"total\": 800.0}, \"2\": {\"item\": \"Cello Tape\", \"quantity\": 2, \"price\": 130.0, \"SP\": 104.0, \"total\": 208.0}, \"3\": {\"item\": \" Chilli sauce\", \"quantity\": 8, \"price\": 100.0, \"SP\": 70.0, \"total\": 560.0}, \"4\": {\"item\": \"glass\", \"quantity\": 12, \"price\": 45.0, \"SP\": 42.3, \"total\": 507.59999999999997}, \"5\": {\"item\": \"book\", \"quantity\": 1, \"price\": 285.0, \"SP\": 282.15, \"total\": 282.15}}'"
      ]
     },
     "execution_count": 22,
     "metadata": {},
     "output_type": "execute_result"
    }
   ],
   "source": [
    "x"
   ]
  },
  {
   "cell_type": "code",
   "execution_count": 23,
   "id": "fc25cab1",
   "metadata": {},
   "outputs": [],
   "source": [
    "a=json.loads(x)"
   ]
  },
  {
   "cell_type": "code",
   "execution_count": 24,
   "id": "27f19ab6",
   "metadata": {},
   "outputs": [
    {
     "data": {
      "text/plain": [
       "{'1': {'item': 'earphone',\n",
       "  'quantity': 4,\n",
       "  'price': 200.0,\n",
       "  'SP': 200.0,\n",
       "  'total': 800.0},\n",
       " '2': {'item': 'Cello Tape',\n",
       "  'quantity': 2,\n",
       "  'price': 130.0,\n",
       "  'SP': 104.0,\n",
       "  'total': 208.0},\n",
       " '3': {'item': ' Chilli sauce',\n",
       "  'quantity': 8,\n",
       "  'price': 100.0,\n",
       "  'SP': 70.0,\n",
       "  'total': 560.0},\n",
       " '4': {'item': 'glass',\n",
       "  'quantity': 12,\n",
       "  'price': 45.0,\n",
       "  'SP': 42.3,\n",
       "  'total': 507.59999999999997},\n",
       " '5': {'item': 'book',\n",
       "  'quantity': 1,\n",
       "  'price': 285.0,\n",
       "  'SP': 282.15,\n",
       "  'total': 282.15}}"
      ]
     },
     "execution_count": 24,
     "metadata": {},
     "output_type": "execute_result"
    }
   ],
   "source": [
    "a"
   ]
  }
 ],
 "metadata": {
  "kernelspec": {
   "display_name": "Python 3",
   "language": "python",
   "name": "python3"
  },
  "language_info": {
   "codemirror_mode": {
    "name": "ipython",
    "version": 3
   },
   "file_extension": ".py",
   "mimetype": "text/x-python",
   "name": "python",
   "nbconvert_exporter": "python",
   "pygments_lexer": "ipython3",
   "version": "3.8.8"
  }
 },
 "nbformat": 4,
 "nbformat_minor": 5
}
